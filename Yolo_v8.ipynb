{
 "cells": [
  {
   "cell_type": "code",
   "execution_count": null,
   "metadata": {},
   "outputs": [],
   "source": [
    "from ultralytics import YOLO\n",
    "# Load a model\n",
    "model = YOLO('yolov8s.pt')  # load a pretrained model (recommended for training)\n",
    "# Train the model\n",
    "results = model.train(data='/home/alpaco/mentoDataset/first-mixture-ingredient.v1i.yolov8/data.yaml', epochs=100, imgsz=256)\n",
    "# Load a model\n",
    "model = YOLO('yolov8l.pt')  # load a pretrained model (recommended for training)\n",
    "# Train the model\n",
    "results = model.train(data='/home/alpaco/mentoDataset/first-mixture-ingredient.v1i.yolov8/data.yaml', epochs=100, imgsz=256)\n",
    "# Load a model\n",
    "model = YOLO('yolov8n.pt')  # load a pretrained model (recommended for training)\n",
    "# Train the model\n",
    "results = model.train(data='/home/alpaco/mentoDataset/first-mixture-ingredient.v1i.yolov8/data.yaml', epochs=100, imgsz=256)"
   ]
  }
 ],
 "metadata": {
  "language_info": {
   "name": "python"
  }
 },
 "nbformat": 4,
 "nbformat_minor": 2
}
